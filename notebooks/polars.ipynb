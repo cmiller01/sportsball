{
 "cells": [
  {
   "cell_type": "code",
   "execution_count": 12,
   "metadata": {},
   "outputs": [],
   "source": [
    "import polars as pl\n",
    "import pandas as pd\n",
    "import os"
   ]
  },
  {
   "cell_type": "markdown",
   "metadata": {},
   "source": [
    "## polars and pandas quick and dirty\n",
    "\n",
    "just playing around with pandas and polars and a small dataset\n",
    "\n",
    "### i/o exploration"
   ]
  },
  {
   "cell_type": "code",
   "execution_count": 13,
   "metadata": {},
   "outputs": [
    {
     "name": "stdout",
     "output_type": "stream",
     "text": [
      "shape: (9, 19)\n",
      "┌────────────┬───────────┬──────┬──────────────┬───┬──────────┬─────────────┬────────┬─────────────┐\n",
      "│ describe   ┆ week      ┆ day  ┆ date         ┆ … ┆ game_id  ┆ league      ┆ season ┆ game        │\n",
      "│ ---        ┆ ---       ┆ ---  ┆ ---          ┆   ┆ ---      ┆ ---         ┆ ---    ┆ ---         │\n",
      "│ str        ┆ f64       ┆ str  ┆ str          ┆   ┆ str      ┆ str         ┆ str    ┆ str         │\n",
      "╞════════════╪═══════════╪══════╪══════════════╪═══╪══════════╪═════════════╪════════╪═════════════╡\n",
      "│ count      ┆ 380.0     ┆ 380  ┆ 380          ┆ … ┆ 380      ┆ 380         ┆ 380    ┆ 380         │\n",
      "│ null_count ┆ 0.0       ┆ 0    ┆ 0            ┆ … ┆ 0        ┆ 0           ┆ 0      ┆ 0           │\n",
      "│ mean       ┆ 19.5      ┆ null ┆ null         ┆ … ┆ null     ┆ null        ┆ null   ┆ null        │\n",
      "│ std        ┆ 10.980313 ┆ null ┆ null         ┆ … ┆ null     ┆ null        ┆ null   ┆ null        │\n",
      "│ min        ┆ 1.0       ┆ Fri  ┆ 2017-08-11   ┆ … ┆ 00836893 ┆ ENG-Premier ┆ 1718   ┆ 2017-08-11  │\n",
      "│            ┆           ┆      ┆ 00:00:00     ┆   ┆          ┆ League      ┆        ┆ Arsenal-Lei │\n",
      "│            ┆           ┆      ┆              ┆   ┆          ┆             ┆        ┆ cester Cit… │\n",
      "│ 25%        ┆ 10.0      ┆ null ┆ null         ┆ … ┆ null     ┆ null        ┆ null   ┆ null        │\n",
      "│ 50%        ┆ 20.0      ┆ null ┆ null         ┆ … ┆ null     ┆ null        ┆ null   ┆ null        │\n",
      "│ 75%        ┆ 29.0      ┆ null ┆ null         ┆ … ┆ null     ┆ null        ┆ null   ┆ null        │\n",
      "│ max        ┆ 38.0      ┆ Wed  ┆ 2018-05-13   ┆ … ┆ ff3f2b39 ┆ ENG-Premier ┆ 1718   ┆ 2018-05-13  │\n",
      "│            ┆           ┆      ┆ 00:00:00     ┆   ┆          ┆ League      ┆        ┆ West        │\n",
      "│            ┆           ┆      ┆              ┆   ┆          ┆             ┆        ┆ Ham-Everton │\n",
      "└────────────┴───────────┴──────┴──────────────┴───┴──────────┴─────────────┴────────┴─────────────┘\n",
      "shape: (5, 18)\n",
      "┌──────┬─────┬──────────────┬───────┬───┬──────────┬─────────────┬────────┬────────────────────────┐\n",
      "│ week ┆ day ┆ date         ┆ time  ┆ … ┆ game_id  ┆ league      ┆ season ┆ game                   │\n",
      "│ ---  ┆ --- ┆ ---          ┆ ---   ┆   ┆ ---      ┆ ---         ┆ ---    ┆ ---                    │\n",
      "│ i64  ┆ str ┆ datetime[ns] ┆ str   ┆   ┆ str      ┆ str         ┆ str    ┆ str                    │\n",
      "╞══════╪═════╪══════════════╪═══════╪═══╪══════════╪═════════════╪════════╪════════════════════════╡\n",
      "│ 1    ┆ Fri ┆ 2017-08-11   ┆ 19:45 ┆ … ┆ e3c3ddf0 ┆ ENG-Premier ┆ 1718   ┆ 2017-08-11             │\n",
      "│      ┆     ┆ 00:00:00     ┆       ┆   ┆          ┆ League      ┆        ┆ Arsenal-Leicester Cit… │\n",
      "│ 1    ┆ Sat ┆ 2017-08-12   ┆ 17:30 ┆ … ┆ 072bfc99 ┆ ENG-Premier ┆ 1718   ┆ 2017-08-12             │\n",
      "│      ┆     ┆ 00:00:00     ┆       ┆   ┆          ┆ League      ┆        ┆ Brighton-Manchester C… │\n",
      "│ 1    ┆ Sat ┆ 2017-08-12   ┆ 15:00 ┆ … ┆ 71b00bca ┆ ENG-Premier ┆ 1718   ┆ 2017-08-12             │\n",
      "│      ┆     ┆ 00:00:00     ┆       ┆   ┆          ┆ League      ┆        ┆ Chelsea-Burnley        │\n",
      "│ 1    ┆ Sat ┆ 2017-08-12   ┆ 15:00 ┆ … ┆ 2d369d17 ┆ ENG-Premier ┆ 1718   ┆ 2017-08-12 Crystal     │\n",
      "│      ┆     ┆ 00:00:00     ┆       ┆   ┆          ┆ League      ┆        ┆ Palace-Hudder…         │\n",
      "│ 1    ┆ Sat ┆ 2017-08-12   ┆ 15:00 ┆ … ┆ 7c834541 ┆ ENG-Premier ┆ 1718   ┆ 2017-08-12             │\n",
      "│      ┆     ┆ 00:00:00     ┆       ┆   ┆          ┆ League      ┆        ┆ Everton-Stoke City     │\n",
      "└──────┴─────┴──────────────┴───────┴───┴──────────┴─────────────┴────────┴────────────────────────┘\n",
      "shape: (1, 18)\n",
      "┌──────┬─────┬──────┬──────┬───┬─────────┬────────┬────────┬──────┐\n",
      "│ week ┆ day ┆ date ┆ time ┆ … ┆ game_id ┆ league ┆ season ┆ game │\n",
      "│ ---  ┆ --- ┆ ---  ┆ ---  ┆   ┆ ---     ┆ ---    ┆ ---    ┆ ---  │\n",
      "│ u32  ┆ u32 ┆ u32  ┆ u32  ┆   ┆ u32     ┆ u32    ┆ u32    ┆ u32  │\n",
      "╞══════╪═════╪══════╪══════╪═══╪═════════╪════════╪════════╪══════╡\n",
      "│ 380  ┆ 380 ┆ 380  ┆ 380  ┆ … ┆ 380     ┆ 380    ┆ 380    ┆ 380  │\n",
      "└──────┴─────┴──────┴──────┴───┴─────────┴────────┴────────┴──────┘\n",
      "polars read\n",
      "321 µs ± 31.1 µs per loop (mean ± std. dev. of 7 runs, 1,000 loops each)\n",
      "pandas read\n",
      "4.12 ms ± 197 µs per loop (mean ± std. dev. of 7 runs, 100 loops each)\n"
     ]
    }
   ],
   "source": [
    "path = \"../sportsball/data/match/fbref_2017.parquet\"\n",
    "\n",
    "data = pl.read_parquet(path)\n",
    "print(data.describe())\n",
    "\n",
    "print(data.head())\n",
    "print(\"polars read\")\n",
    "%timeit pl.read_parquet(path)\n",
    "print(\"pandas read\")\n",
    "%timeit pd.read_parquet(path)"
   ]
  },
  {
   "cell_type": "code",
   "execution_count": 9,
   "metadata": {},
   "outputs": [
    {
     "name": "stdout",
     "output_type": "stream",
     "text": [
      "polars write\n",
      "4.36 ms ± 310 µs per loop (mean ± std. dev. of 7 runs, 100 loops each)\n",
      "pandas write\n",
      "2.06 ms ± 9.2 µs per loop (mean ± std. dev. of 7 runs, 100 loops each)\n"
     ]
    }
   ],
   "source": [
    "write_path = \"/tmp/foo.parquet\"\n",
    "data = pl.read_parquet(path)\n",
    "print(\"polars write\")\n",
    "%timeit data.write_parquet(write_path)\n",
    "\n",
    "data = pd.read_parquet(path)\n",
    "print(\"pandas write\")\n",
    "%timeit data.to_parquet(write_path)\n",
    "os.remove(write_path)"
   ]
  },
  {
   "cell_type": "markdown",
   "metadata": {},
   "source": []
  }
 ],
 "metadata": {
  "kernelspec": {
   "display_name": "env",
   "language": "python",
   "name": "python3"
  },
  "language_info": {
   "codemirror_mode": {
    "name": "ipython",
    "version": 3
   },
   "file_extension": ".py",
   "mimetype": "text/x-python",
   "name": "python",
   "nbconvert_exporter": "python",
   "pygments_lexer": "ipython3",
   "version": "3.10.12"
  }
 },
 "nbformat": 4,
 "nbformat_minor": 2
}
