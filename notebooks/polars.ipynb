{
 "cells": [
  {
   "cell_type": "code",
   "execution_count": 1,
   "metadata": {},
   "outputs": [],
   "source": [
    "import polars as pl\n",
    "import pandas as pd\n",
    "import os"
   ]
  },
  {
   "cell_type": "markdown",
   "metadata": {},
   "source": [
    "## polars and pandas quick and dirty\n",
    "\n",
    "just playing around with pandas and polars and a small dataset\n",
    "\n",
    "### i/o exploration"
   ]
  },
  {
   "cell_type": "code",
   "execution_count": null,
   "metadata": {},
   "outputs": [],
   "source": []
  },
  {
   "cell_type": "code",
   "execution_count": 26,
   "metadata": {},
   "outputs": [
    {
     "data": {
      "text/html": [
       "<div><style>\n",
       ".dataframe > thead > tr,\n",
       ".dataframe > tbody > tr {\n",
       "  text-align: right;\n",
       "  white-space: pre-wrap;\n",
       "}\n",
       "</style>\n",
       "<small>shape: (9, 19)</small><table border=\"1\" class=\"dataframe\"><thead><tr><th>describe</th><th>week</th><th>day</th><th>date</th><th>time</th><th>home_team</th><th>home_xg</th><th>score</th><th>away_xg</th><th>away_team</th><th>attendance</th><th>venue</th><th>referee</th><th>match_report</th><th>notes</th><th>game_id</th><th>league</th><th>season</th><th>game</th></tr><tr><td>str</td><td>f64</td><td>str</td><td>str</td><td>str</td><td>str</td><td>f64</td><td>str</td><td>f64</td><td>str</td><td>f64</td><td>str</td><td>str</td><td>str</td><td>f64</td><td>str</td><td>str</td><td>str</td><td>str</td></tr></thead><tbody><tr><td>&quot;count&quot;</td><td>1140.0</td><td>&quot;1140&quot;</td><td>&quot;1140&quot;</td><td>&quot;1140&quot;</td><td>&quot;1140&quot;</td><td>1140.0</td><td>&quot;1140&quot;</td><td>1140.0</td><td>&quot;1140&quot;</td><td>1048.0</td><td>&quot;1140&quot;</td><td>&quot;1140&quot;</td><td>&quot;1140&quot;</td><td>0.0</td><td>&quot;1140&quot;</td><td>&quot;1140&quot;</td><td>&quot;1140&quot;</td><td>&quot;1140&quot;</td></tr><tr><td>&quot;null_count&quot;</td><td>0.0</td><td>&quot;0&quot;</td><td>&quot;0&quot;</td><td>&quot;0&quot;</td><td>&quot;0&quot;</td><td>0.0</td><td>&quot;0&quot;</td><td>0.0</td><td>&quot;0&quot;</td><td>92.0</td><td>&quot;0&quot;</td><td>&quot;0&quot;</td><td>&quot;0&quot;</td><td>1140.0</td><td>&quot;0&quot;</td><td>&quot;0&quot;</td><td>&quot;0&quot;</td><td>&quot;0&quot;</td></tr><tr><td>&quot;mean&quot;</td><td>19.5</td><td>null</td><td>null</td><td>null</td><td>null</td><td>1.462544</td><td>null</td><td>1.177632</td><td>null</td><td>38526.163168</td><td>null</td><td>null</td><td>null</td><td>null</td><td>null</td><td>null</td><td>null</td><td>null</td></tr><tr><td>&quot;std&quot;</td><td>10.970669</td><td>null</td><td>null</td><td>null</td><td>null</td><td>0.824893</td><td>null</td><td>0.733519</td><td>null</td><td>16938.530327</td><td>null</td><td>null</td><td>null</td><td>null</td><td>null</td><td>null</td><td>null</td><td>null</td></tr><tr><td>&quot;min&quot;</td><td>1.0</td><td>&quot;Fri&quot;</td><td>&quot;2017-08-11 00:…</td><td>&quot;12:00&quot;</td><td>&quot;Arsenal&quot;</td><td>0.0</td><td>&quot;0–0&quot;</td><td>0.0</td><td>&quot;Arsenal&quot;</td><td>9980.0</td><td>&quot;Anfield&quot;</td><td>&quot;Andre Marriner…</td><td>&quot;/en/matches/00…</td><td>null</td><td>&quot;0014076a&quot;</td><td>&quot;ENG-Premier Le…</td><td>&quot;1718&quot;</td><td>&quot;2017-08-11 Ars…</td></tr><tr><td>&quot;25%&quot;</td><td>10.0</td><td>null</td><td>null</td><td>null</td><td>null</td><td>0.8</td><td>null</td><td>0.6</td><td>null</td><td>25193.0</td><td>null</td><td>null</td><td>null</td><td>null</td><td>null</td><td>null</td><td>null</td><td>null</td></tr><tr><td>&quot;50%&quot;</td><td>20.0</td><td>null</td><td>null</td><td>null</td><td>null</td><td>1.3</td><td>null</td><td>1.1</td><td>null</td><td>31939.0</td><td>null</td><td>null</td><td>null</td><td>null</td><td>null</td><td>null</td><td>null</td><td>null</td></tr><tr><td>&quot;75%&quot;</td><td>29.0</td><td>null</td><td>null</td><td>null</td><td>null</td><td>2.0</td><td>null</td><td>1.6</td><td>null</td><td>53307.0</td><td>null</td><td>null</td><td>null</td><td>null</td><td>null</td><td>null</td><td>null</td><td>null</td></tr><tr><td>&quot;max&quot;</td><td>38.0</td><td>&quot;Wed&quot;</td><td>&quot;2020-07-26 00:…</td><td>&quot;20:30&quot;</td><td>&quot;Wolves&quot;</td><td>5.9</td><td>&quot;8–0&quot;</td><td>4.6</td><td>&quot;Wolves&quot;</td><td>83222.0</td><td>&quot;Wembley Stadiu…</td><td>&quot;Tim Robinson&quot;</td><td>&quot;/en/matches/ff…</td><td>null</td><td>&quot;ffe874ee&quot;</td><td>&quot;ENG-Premier Le…</td><td>&quot;1920&quot;</td><td>&quot;2020-07-26 Wes…</td></tr></tbody></table></div>"
      ],
      "text/plain": [
       "shape: (9, 19)\n",
       "+------------+-----------+------+--------------+---+----------+-------------+--------+-------------+\n",
       "| describe   | week      | day  | date         | … | game_id  | league      | season | game        |\n",
       "| ---        | ---       | ---  | ---          |   | ---      | ---         | ---    | ---         |\n",
       "| str        | f64       | str  | str          |   | str      | str         | str    | str         |\n",
       "+==================================================================================================+\n",
       "| count      | 1140.0    | 1140 | 1140         | … | 1140     | 1140        | 1140   | 1140        |\n",
       "| null_count | 0.0       | 0    | 0            | … | 0        | 0           | 0      | 0           |\n",
       "| mean       | 19.5      | null | null         | … | null     | null        | null   | null        |\n",
       "| std        | 10.970669 | null | null         | … | null     | null        | null   | null        |\n",
       "| min        | 1.0       | Fri  | 2017-08-11   | … | 0014076a | ENG-Premier | 1718   | 2017-08-11  |\n",
       "|            |           |      | 00:00:00     |   |          | League      |        | Arsenal-Lei |\n",
       "|            |           |      |              |   |          |             |        | cester Cit… |\n",
       "| 25%        | 10.0      | null | null         | … | null     | null        | null   | null        |\n",
       "| 50%        | 20.0      | null | null         | … | null     | null        | null   | null        |\n",
       "| 75%        | 29.0      | null | null         | … | null     | null        | null   | null        |\n",
       "| max        | 38.0      | Wed  | 2020-07-26   | … | ffe874ee | ENG-Premier | 1920   | 2020-07-26  |\n",
       "|            |           |      | 00:00:00     |   |          | League      |        | West        |\n",
       "|            |           |      |              |   |          |             |        | Ham-Aston   |\n",
       "|            |           |      |              |   |          |             |        | Villa       |\n",
       "+------------+-----------+------+--------------+---+----------+-------------+--------+-------------+"
      ]
     },
     "metadata": {},
     "output_type": "display_data"
    },
    {
     "data": {
      "text/html": [
       "<div><style>\n",
       ".dataframe > thead > tr,\n",
       ".dataframe > tbody > tr {\n",
       "  text-align: right;\n",
       "  white-space: pre-wrap;\n",
       "}\n",
       "</style>\n",
       "<small>shape: (5, 18)</small><table border=\"1\" class=\"dataframe\"><thead><tr><th>week</th><th>day</th><th>date</th><th>time</th><th>home_team</th><th>home_xg</th><th>score</th><th>away_xg</th><th>away_team</th><th>attendance</th><th>venue</th><th>referee</th><th>match_report</th><th>notes</th><th>game_id</th><th>league</th><th>season</th><th>game</th></tr><tr><td>i64</td><td>str</td><td>datetime[ns]</td><td>str</td><td>str</td><td>f64</td><td>str</td><td>f64</td><td>str</td><td>i64</td><td>str</td><td>str</td><td>str</td><td>i64</td><td>str</td><td>str</td><td>str</td><td>str</td></tr></thead><tbody><tr><td>1</td><td>&quot;Fri&quot;</td><td>2017-08-11 00:00:00</td><td>&quot;19:45&quot;</td><td>&quot;Arsenal&quot;</td><td>2.5</td><td>&quot;4–3&quot;</td><td>1.5</td><td>&quot;Leicester City…</td><td>59387</td><td>&quot;Emirates Stadi…</td><td>&quot;Mike Dean&quot;</td><td>&quot;/en/matches/e3…</td><td>null</td><td>&quot;e3c3ddf0&quot;</td><td>&quot;ENG-Premier Le…</td><td>&quot;1718&quot;</td><td>&quot;2017-08-11 Ars…</td></tr><tr><td>1</td><td>&quot;Sat&quot;</td><td>2017-08-12 00:00:00</td><td>&quot;17:30&quot;</td><td>&quot;Brighton&quot;</td><td>0.3</td><td>&quot;0–2&quot;</td><td>1.9</td><td>&quot;Manchester Cit…</td><td>30415</td><td>&quot;The American E…</td><td>&quot;Michael Oliver…</td><td>&quot;/en/matches/07…</td><td>null</td><td>&quot;072bfc99&quot;</td><td>&quot;ENG-Premier Le…</td><td>&quot;1718&quot;</td><td>&quot;2017-08-12 Bri…</td></tr><tr><td>1</td><td>&quot;Sat&quot;</td><td>2017-08-12 00:00:00</td><td>&quot;15:00&quot;</td><td>&quot;Chelsea&quot;</td><td>1.5</td><td>&quot;2–3&quot;</td><td>0.6</td><td>&quot;Burnley&quot;</td><td>41616</td><td>&quot;Stamford Bridg…</td><td>&quot;Craig Pawson&quot;</td><td>&quot;/en/matches/71…</td><td>null</td><td>&quot;71b00bca&quot;</td><td>&quot;ENG-Premier Le…</td><td>&quot;1718&quot;</td><td>&quot;2017-08-12 Che…</td></tr><tr><td>1</td><td>&quot;Sat&quot;</td><td>2017-08-12 00:00:00</td><td>&quot;15:00&quot;</td><td>&quot;Crystal Palace…</td><td>1.1</td><td>&quot;0–3&quot;</td><td>1.5</td><td>&quot;Huddersfield&quot;</td><td>25448</td><td>&quot;Selhurst Park&quot;</td><td>&quot;Jonathan Moss&quot;</td><td>&quot;/en/matches/2d…</td><td>null</td><td>&quot;2d369d17&quot;</td><td>&quot;ENG-Premier Le…</td><td>&quot;1718&quot;</td><td>&quot;2017-08-12 Cry…</td></tr><tr><td>1</td><td>&quot;Sat&quot;</td><td>2017-08-12 00:00:00</td><td>&quot;15:00&quot;</td><td>&quot;Everton&quot;</td><td>0.6</td><td>&quot;1–0&quot;</td><td>0.4</td><td>&quot;Stoke City&quot;</td><td>39045</td><td>&quot;Goodison Park&quot;</td><td>&quot;Niel Swarbrick…</td><td>&quot;/en/matches/7c…</td><td>null</td><td>&quot;7c834541&quot;</td><td>&quot;ENG-Premier Le…</td><td>&quot;1718&quot;</td><td>&quot;2017-08-12 Eve…</td></tr></tbody></table></div>"
      ],
      "text/plain": [
       "shape: (5, 18)\n",
       "+------+-----+--------------+-------+---+----------+-------------+--------+------------------------+\n",
       "| week | day | date         | time  | … | game_id  | league      | season | game                   |\n",
       "| ---  | --- | ---          | ---   |   | ---      | ---         | ---    | ---                    |\n",
       "| i64  | str | datetime[ns] | str   |   | str      | str         | str    | str                    |\n",
       "+==================================================================================================+\n",
       "| 1    | Fri | 2017-08-11   | 19:45 | … | e3c3ddf0 | ENG-Premier | 1718   | 2017-08-11             |\n",
       "|      |     | 00:00:00     |       |   |          | League      |        | Arsenal-Leicester Cit… |\n",
       "| 1    | Sat | 2017-08-12   | 17:30 | … | 072bfc99 | ENG-Premier | 1718   | 2017-08-12             |\n",
       "|      |     | 00:00:00     |       |   |          | League      |        | Brighton-Manchester C… |\n",
       "| 1    | Sat | 2017-08-12   | 15:00 | … | 71b00bca | ENG-Premier | 1718   | 2017-08-12             |\n",
       "|      |     | 00:00:00     |       |   |          | League      |        | Chelsea-Burnley        |\n",
       "| 1    | Sat | 2017-08-12   | 15:00 | … | 2d369d17 | ENG-Premier | 1718   | 2017-08-12 Crystal     |\n",
       "|      |     | 00:00:00     |       |   |          | League      |        | Palace-Hudder…         |\n",
       "| 1    | Sat | 2017-08-12   | 15:00 | … | 7c834541 | ENG-Premier | 1718   | 2017-08-12             |\n",
       "|      |     | 00:00:00     |       |   |          | League      |        | Everton-Stoke City     |\n",
       "+------+-----+--------------+-------+---+----------+-------------+--------+------------------------+"
      ]
     },
     "metadata": {},
     "output_type": "display_data"
    },
    {
     "name": "stdout",
     "output_type": "stream",
     "text": [
      "polars read\n",
      "748 µs ± 57.9 µs per loop (mean ± std. dev. of 7 runs, 1,000 loops each)\n",
      "pandas read\n",
      "7.36 ms ± 228 µs per loop (mean ± std. dev. of 7 runs, 100 loops each)\n"
     ]
    }
   ],
   "source": [
    "paths = [\"../sportsball/data/match/fbref_2017.parquet\",\"../sportsball/data/match/fbref_2018.parquet\",\"../sportsball/data/match/fbref_2019.parquet\"]\n",
    "\n",
    "\n",
    "data = pl.read_parquet(paths)\n",
    "pl.Config.set_ascii_tables(True)\n",
    "display(data.describe())\n",
    "\n",
    "display(data.head())\n",
    "print(\"polars read\")\n",
    "%timeit pl.read_parquet(paths)\n",
    "print(\"pandas read\")\n",
    "%timeit pd.read_parquet(paths)"
   ]
  },
  {
   "cell_type": "code",
   "execution_count": 27,
   "metadata": {},
   "outputs": [
    {
     "name": "stdout",
     "output_type": "stream",
     "text": [
      "polars write\n",
      "4.92 ms ± 630 µs per loop (mean ± std. dev. of 7 runs, 100 loops each)\n",
      "pandas write\n",
      "3.96 ms ± 9.25 µs per loop (mean ± std. dev. of 7 runs, 100 loops each)\n"
     ]
    }
   ],
   "source": [
    "write_path = \"/tmp/foo.parquet\"\n",
    "data = pl.read_parquet(paths)\n",
    "print(\"polars write\")\n",
    "%timeit data.write_parquet(write_path)\n",
    "\n",
    "data = pd.read_parquet(paths)\n",
    "print(\"pandas write\")\n",
    "%timeit data.to_parquet(write_path)\n",
    "os.remove(write_path)"
   ]
  },
  {
   "cell_type": "markdown",
   "metadata": {},
   "source": []
  }
 ],
 "metadata": {
  "kernelspec": {
   "display_name": "Python 3 (ipykernel)",
   "language": "python",
   "name": "python3"
  },
  "language_info": {
   "codemirror_mode": {
    "name": "ipython",
    "version": 3
   },
   "file_extension": ".py",
   "mimetype": "text/x-python",
   "name": "python",
   "nbconvert_exporter": "python",
   "pygments_lexer": "ipython3",
   "version": "3.10.12"
  }
 },
 "nbformat": 4,
 "nbformat_minor": 4
}
