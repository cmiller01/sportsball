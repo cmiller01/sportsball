{
 "cells": [
  {
   "cell_type": "code",
   "execution_count": 6,
   "metadata": {},
   "outputs": [],
   "source": [
    "import polars as pl\n",
    "import pandas as pd\n",
    "import os"
   ]
  },
  {
   "cell_type": "markdown",
   "metadata": {},
   "source": [
    "## polars and pandas quick and dirty\n",
    "\n",
    "just playing around with pandas and polars and a small dataset\n",
    "\n",
    "### i/o exploration"
   ]
  },
  {
   "cell_type": "code",
   "execution_count": 7,
   "metadata": {},
   "outputs": [
    {
     "name": "stdout",
     "output_type": "stream",
     "text": [
      "polars read\n",
      "364 µs ± 40 µs per loop (mean ± std. dev. of 7 runs, 1,000 loops each)\n",
      "pandas read\n",
      "4.44 ms ± 334 µs per loop (mean ± std. dev. of 7 runs, 100 loops each)\n"
     ]
    }
   ],
   "source": [
    "path = \"../sportsball/data/match/fbref_2017.parquet\"\n",
    "print(\"polars read\")\n",
    "%timeit pl.read_parquet(path)\n",
    "print(\"pandas read\")\n",
    "%timeit pd.read_parquet(path)"
   ]
  },
  {
   "cell_type": "code",
   "execution_count": 9,
   "metadata": {},
   "outputs": [
    {
     "name": "stdout",
     "output_type": "stream",
     "text": [
      "polars write\n",
      "4.36 ms ± 310 µs per loop (mean ± std. dev. of 7 runs, 100 loops each)\n",
      "pandas write\n",
      "2.06 ms ± 9.2 µs per loop (mean ± std. dev. of 7 runs, 100 loops each)\n"
     ]
    }
   ],
   "source": [
    "write_path = \"/tmp/foo.parquet\"\n",
    "data = pl.read_parquet(path)\n",
    "print(\"polars write\")\n",
    "%timeit data.write_parquet(write_path)\n",
    "\n",
    "data = pd.read_parquet(path)\n",
    "print(\"pandas write\")\n",
    "%timeit data.to_parquet(write_path)\n",
    "os.remove(write_path)"
   ]
  },
  {
   "cell_type": "markdown",
   "metadata": {},
   "source": []
  }
 ],
 "metadata": {
  "kernelspec": {
   "display_name": "env",
   "language": "python",
   "name": "python3"
  },
  "language_info": {
   "codemirror_mode": {
    "name": "ipython",
    "version": 3
   },
   "file_extension": ".py",
   "mimetype": "text/x-python",
   "name": "python",
   "nbconvert_exporter": "python",
   "pygments_lexer": "ipython3",
   "version": "3.10.12"
  }
 },
 "nbformat": 4,
 "nbformat_minor": 2
}
